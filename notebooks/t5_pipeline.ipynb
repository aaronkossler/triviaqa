{
 "cells": [
  {
   "cell_type": "markdown",
   "metadata": {
    "collapsed": false,
    "id": "877201a695895b76"
   },
   "source": [
    "# TriviaQA"
   ],
   "id": "877201a695895b76"
  },
  {
   "cell_type": "code",
   "execution_count": null,
   "metadata": {
    "id": "vGUwKR1Kbj3s"
   },
   "outputs": [],
   "source": [
    "!git clone https://github.com/aaronkossler/triviaqa.git"
   ],
   "id": "vGUwKR1Kbj3s"
  },
  {
   "cell_type": "markdown",
   "metadata": {
    "collapsed": false,
    "id": "9c2051ee80b1ce21"
   },
   "source": [
    "## Import Dataset"
   ],
   "id": "9c2051ee80b1ce21"
  },
  {
   "cell_type": "code",
   "execution_count": null,
   "metadata": {
    "id": "mY3ijI6wKRc5"
   },
   "outputs": [],
   "source": [
    "%%bash\n",
    "\n",
    "pip install datasets"
   ],
   "id": "mY3ijI6wKRc5"
  },
  {
   "cell_type": "code",
   "execution_count": null,
   "metadata": {
    "id": "945abe603034f2cc"
   },
   "outputs": [],
   "source": [
    "from datasets import load_dataset\n",
    "\n",
    "trivia_qa_wikipedia = load_dataset('trivia_qa', name=\"rc.wikipedia\")"
   ],
   "id": "945abe603034f2cc"
  },
  {
   "cell_type": "code",
   "execution_count": 11,
   "outputs": [],
   "source": [
    "import sys\n",
    "import json\n",
    "import pandas as pd\n",
    "\n",
    "# sys.path.append(\"../\")\n",
    "\n",
    "train = pd.read_json('../data/wikipedia-train.json', encoding='utf-8')"
   ],
   "metadata": {
    "collapsed": false,
    "ExecuteTime": {
     "end_time": "2023-11-29T11:42:56.751152300Z",
     "start_time": "2023-11-29T11:42:38.355590100Z"
    }
   },
   "id": "c8ee1cd18c8536ef"
  },
  {
   "cell_type": "code",
   "execution_count": 17,
   "outputs": [
    {
     "data": {
      "text/plain": "61888"
     },
     "execution_count": 17,
     "metadata": {},
     "output_type": "execute_result"
    }
   ],
   "source": [
    "len(train[train[\"Split\"] == \"train\"])"
   ],
   "metadata": {
    "collapsed": false,
    "ExecuteTime": {
     "end_time": "2023-11-29T11:45:41.359146Z",
     "start_time": "2023-11-29T11:45:41.283702800Z"
    }
   },
   "id": "8f957443a8214bbc"
  },
  {
   "cell_type": "code",
   "execution_count": 4,
   "metadata": {
    "id": "7ddbbbf17f8e289a"
   },
   "outputs": [],
   "source": [
    "test = trivia_qa_wikipedia[\"validation\"]"
   ],
   "id": "7ddbbbf17f8e289a"
  },
  {
   "cell_type": "code",
   "execution_count": 5,
   "metadata": {
    "id": "Tw1vztqOXwBK"
   },
   "outputs": [],
   "source": [
    "import json\n",
    "import os\n",
    "\n",
    "# Convert the evaluation set to the desired format\n",
    "data = []\n",
    "for item in test:\n",
    "    answer = {\n",
    "        \"Aliases\": item[\"answer\"][\"aliases\"],\n",
    "        \"MatchedWikiEntityName\": item[\"answer\"][\"matched_wiki_entity_name\"],\n",
    "        \"NormalizedAliases\": item[\"answer\"][\"normalized_aliases\"],\n",
    "        \"NormalizedMatchedWikiEntityName\": item[\"answer\"][\"normalized_matched_wiki_entity_name\"],\n",
    "        \"NormalizedValue\": item[\"answer\"][\"normalized_value\"],\n",
    "        \"Type\": item[\"answer\"][\"type\"],\n",
    "        \"Value\": item[\"answer\"][\"value\"],\n",
    "    }\n",
    "    entity_pages = [\n",
    "        {\n",
    "            \"DocSource\": item[\"entity_pages\"][\"doc_source\"][index],\n",
    "            \"Filename\": item[\"entity_pages\"][\"filename\"][index],\n",
    "            \"Title\": item[\"entity_pages\"][\"title\"][index],\n",
    "        }\n",
    "        for index in range(len(item[\"entity_pages\"][\"filename\"]))\n",
    "    ]\n",
    "    question = item[\"question\"]\n",
    "    question_id = item[\"question_id\"]\n",
    "    question_source = item[\"question_source\"]\n",
    "    search_results = []\n",
    "    data_item = {\n",
    "        \"Answer\": answer,\n",
    "        \"EntityPages\": entity_pages,\n",
    "        \"Question\": question,\n",
    "        \"QuestionId\": question_id,\n",
    "        \"QuestionSource\": question_source,\n",
    "        \"SearchResults\": search_results,\n",
    "    }\n",
    "    data.append(data_item)\n",
    "\n",
    "output = {\n",
    "    \"Data\": data,\n",
    "    \"Domain\": \"Wikipedia\",\n",
    "    \"VerifiedEval\": False,\n",
    "    \"Version\": 1.0,\n",
    "}\n",
    "\n",
    "# Write the output to a JSON file\n",
    "if not os.path.exists(\"triviaqa/sets\"):\n",
    "    os.makedirs(\"triviaqa/sets\")\n",
    "\n",
    "with open(\"triviaqa/sets/evaluation.json\", \"w\") as f:\n",
    "    json.dump(output, f)"
   ],
   "id": "Tw1vztqOXwBK"
  },
  {
   "cell_type": "markdown",
   "metadata": {
    "id": "bs4ULjaIE8G2"
   },
   "source": [
    "## Preprocessing"
   ],
   "id": "bs4ULjaIE8G2"
  },
  {
   "cell_type": "code",
   "source": [],
   "metadata": {
    "id": "EB3xAinD0l4a"
   },
   "id": "EB3xAinD0l4a",
   "execution_count": null,
   "outputs": []
  },
  {
   "cell_type": "markdown",
   "source": [
    "## Model Training"
   ],
   "metadata": {
    "id": "AdyAHQktf42h"
   },
   "id": "AdyAHQktf42h"
  },
  {
   "cell_type": "code",
   "source": [
    "!pip install transformers\n",
    "!pip install evaluate\n",
    "!pip install rouge\n",
    "\n",
    "\n",
    "import torch\n",
    "import json\n",
    "from tqdm import tqdm\n",
    "import torch.nn as nn\n",
    "from torch.optim import Adam\n",
    "import nltk\n",
    "import spacy\n",
    "import string\n",
    "import evaluate  # Bleu\n",
    "from torch.utils.data import Dataset, DataLoader, RandomSampler\n",
    "import pandas as pd\n",
    "import numpy as np\n",
    "import transformers\n",
    "from sklearn.model_selection import train_test_split\n",
    "import matplotlib.pyplot as plt\n",
    "from transformers import T5Tokenizer, T5Model, T5ForConditionalGeneration, T5TokenizerFast\n",
    "\n",
    "import warnings\n",
    "warnings.filterwarnings(\"ignore\")"
   ],
   "metadata": {
    "id": "4cMuDCWwf7hJ"
   },
   "id": "4cMuDCWwf7hJ",
   "execution_count": null,
   "outputs": []
  },
  {
   "cell_type": "markdown",
   "source": [
    "### Hyperparameters"
   ],
   "metadata": {
    "id": "DvdnMTODKs2g"
   },
   "id": "DvdnMTODKs2g"
  },
  {
   "cell_type": "code",
   "source": [
    "TOKENIZER = T5TokenizerFast.from_pretrained(\"t5-base\")\n",
    "MODEL = T5ForConditionalGeneration.from_pretrained(\"t5-base\", return_dict=True)\n",
    "MODEL.to(\"cuda\")\n",
    "OPTIMIZER = Adam(MODEL.parameters(), lr=0.00001)\n",
    "Q_LEN = 256   # Question Length\n",
    "T_LEN = 32    # Target Length\n",
    "BATCH_SIZE = 8\n",
    "DEVICE = \"cuda:0\""
   ],
   "metadata": {
    "id": "-gVKwrAtgNty"
   },
   "id": "-gVKwrAtgNty",
   "execution_count": null,
   "outputs": []
  },
  {
   "cell_type": "markdown",
   "source": [
    "### Extracting context, question, and answers from the dataset"
   ],
   "metadata": {
    "id": "9tJJmf90K3SY"
   },
   "id": "9tJJmf90K3SY"
  },
  {
   "cell_type": "code",
   "source": [
    "import re\n",
    "\n",
    "def prepare_data(data):\n",
    "    articles = []\n",
    "\n",
    "    for item in data:\n",
    "        question = item[\"Question\"]\n",
    "        answer = item[\"Answer\"][\"Value\"]\n",
    "\n",
    "        texts = []\n",
    "        for pages in item[\"EntityPages\"]:\n",
    "            filename = pages[\"Filename\"]\n",
    "            filename = re.sub(\"[\\:?*\\\"]\", \"_\", filename)\n",
    "            text = file=open(f\"../evidence/wikipedia/{filename}\", mode=\"r\", encoding=\"utf-8\").read()\n",
    "            texts.append(text)\n",
    "        context = \" \".join(texts)\n",
    "\n",
    "        inputs = {\"context\": context, \"question\": question, \"answer\": answer}\n",
    "        articles.append(inputs)\n",
    "\n",
    "    return articles"
   ],
   "metadata": {
    "id": "2Z57X63igjTa",
    "ExecuteTime": {
     "end_time": "2023-11-29T12:50:47.096993800Z",
     "start_time": "2023-11-29T12:50:47.051657200Z"
    }
   },
   "id": "2Z57X63igjTa",
   "execution_count": 42,
   "outputs": []
  },
  {
   "cell_type": "code",
   "execution_count": 27,
   "outputs": [
    {
     "data": {
      "text/plain": "{'Answer': {'Aliases': ['Park Grove (1895)',\n   'York UA',\n   'Yorkish',\n   'UN/LOCODE:GBYRK',\n   'York, UK',\n   'Eoforwic',\n   'Park Grove School',\n   'York Ham',\n   'The weather in York',\n   'City of York',\n   'York, England',\n   'York, Yorkshire',\n   'York ham',\n   'County Borough of York',\n   'YORK',\n   'Eoferwic',\n   'Park Grove Primary School',\n   'York, North Yorkshire',\n   'Yoisk',\n   'York',\n   'York (England)'],\n  'MatchedWikiEntityName': 'York',\n  'NormalizedAliases': ['york yorkshire',\n   'eoferwic',\n   'park grove primary school',\n   'park grove school',\n   'weather in york',\n   'park grove 1895',\n   'eoforwic',\n   'county borough of york',\n   'york uk',\n   'un locode gbyrk',\n   'city of york',\n   'york england',\n   'york ua',\n   'york ham',\n   'york',\n   'yorkish',\n   'yoisk',\n   'york north yorkshire'],\n  'NormalizedMatchedWikiEntityName': 'york',\n  'NormalizedValue': 'york',\n  'Type': 'WikipediaEntity',\n  'Value': 'York'},\n 'EntityPages': [{'DocSource': 'TagMe',\n   'Filename': 'England.txt',\n   'Title': 'England'},\n  {'DocSource': 'TagMe', 'Filename': 'Judi_Dench.txt', 'Title': 'Judi Dench'}],\n 'Question': 'Where in England was Dame Judi Dench born?',\n 'QuestionId': 'tc_3',\n 'QuestionSource': 'http://www.triviacountry.com/'}"
     },
     "execution_count": 27,
     "metadata": {},
     "output_type": "execute_result"
    }
   ],
   "source": [
    "train[\"Data\"].iloc[0]"
   ],
   "metadata": {
    "collapsed": false,
    "ExecuteTime": {
     "end_time": "2023-11-29T12:09:07.345440900Z",
     "start_time": "2023-11-29T12:09:07.222299300Z"
    }
   },
   "id": "87ddc1f1e8e93ef1"
  },
  {
   "cell_type": "code",
   "source": [
    "data = prepare_data(train[\"Data\"])\n",
    "\n",
    "# Create a Dataframe\n",
    "data = pd.DataFrame(data)"
   ],
   "metadata": {
    "id": "BtYfK1DHnX5v",
    "ExecuteTime": {
     "end_time": "2023-11-29T12:53:27.889308100Z",
     "start_time": "2023-11-29T12:50:49.110336400Z"
    }
   },
   "id": "BtYfK1DHnX5v",
   "execution_count": 43,
   "outputs": []
  },
  {
   "cell_type": "code",
   "source": [
    "class QA_Dataset(Dataset):\n",
    "    def __init__(self, tokenizer, dataframe, q_len, t_len):\n",
    "        self.tokenizer = tokenizer\n",
    "        self.q_len = q_len\n",
    "        self.t_len = t_len\n",
    "        self.data = dataframe\n",
    "        self.questions = self.data[\"question\"]\n",
    "        self.context = self.data[\"context\"]\n",
    "        self.answer = self.data['answer']\n",
    "\n",
    "    def __len__(self):\n",
    "        return len(self.questions)\n",
    "\n",
    "    def __getitem__(self, idx):\n",
    "        question = self.questions[idx]\n",
    "        context = self.context[idx]\n",
    "        answer = self.answer[idx]\n",
    "\n",
    "        question_tokenized = self.tokenizer(question, context, max_length=self.q_len, padding=\"max_length\",\n",
    "                                                    truncation=True, pad_to_max_length=True, add_special_tokens=True)\n",
    "        answer_tokenized = self.tokenizer(answer, max_length=self.t_len, padding=\"max_length\",\n",
    "                                          truncation=True, pad_to_max_length=True, add_special_tokens=True)\n",
    "\n",
    "        labels = torch.tensor(answer_tokenized[\"input_ids\"], dtype=torch.long)\n",
    "        labels[labels == 0] = -100\n",
    "\n",
    "        return {\n",
    "            \"input_ids\": torch.tensor(question_tokenized[\"input_ids\"], dtype=torch.long),\n",
    "            \"attention_mask\": torch.tensor(question_tokenized[\"attention_mask\"], dtype=torch.long),\n",
    "            \"labels\": labels,\n",
    "            \"decoder_attention_mask\": torch.tensor(answer_tokenized[\"attention_mask\"], dtype=torch.long)\n",
    "        }"
   ],
   "metadata": {
    "id": "0tvU_1PPmoQG"
   },
   "id": "0tvU_1PPmoQG",
   "execution_count": 10,
   "outputs": []
  },
  {
   "cell_type": "code",
   "source": [
    "# Dataloader\n",
    "val_data, train_data = train_test_split(data, shuffle=False, train_size=7900)\n",
    "# val_data, train_data = train_test_split(data[:1000], shuffle=False, train_size=100)\n",
    "\n",
    "train_sampler = RandomSampler(train_data.index)\n",
    "val_sampler = RandomSampler(val_data.index)\n",
    "\n",
    "qa_dataset = QA_Dataset(TOKENIZER, data, Q_LEN, T_LEN)\n",
    "\n",
    "train_loader = DataLoader(qa_dataset, batch_size=BATCH_SIZE, sampler=train_sampler)\n",
    "val_loader = DataLoader(qa_dataset, batch_size=BATCH_SIZE, sampler=val_sampler)"
   ],
   "metadata": {
    "id": "jdSLEt2Pphut"
   },
   "id": "jdSLEt2Pphut",
   "execution_count": 11,
   "outputs": []
  },
  {
   "cell_type": "code",
   "source": [
    "train_loss = 0\n",
    "val_loss = 0\n",
    "train_batch_count = 0\n",
    "val_batch_count = 0\n",
    "\n",
    "for epoch in range(4):\n",
    "    MODEL.train()\n",
    "    for batch in tqdm(train_loader, desc=\"Training batches\"):\n",
    "        input_ids = batch[\"input_ids\"].to(DEVICE)\n",
    "        attention_mask = batch[\"attention_mask\"].to(DEVICE)\n",
    "        labels = batch[\"labels\"].to(DEVICE)\n",
    "        decoder_attention_mask = batch[\"decoder_attention_mask\"].to(DEVICE)\n",
    "\n",
    "        outputs = MODEL(\n",
    "                          input_ids=input_ids,\n",
    "                          attention_mask=attention_mask,\n",
    "                          labels=labels,\n",
    "                          decoder_attention_mask=decoder_attention_mask\n",
    "                        )\n",
    "\n",
    "        OPTIMIZER.zero_grad()\n",
    "        outputs.loss.backward()\n",
    "        OPTIMIZER.step()\n",
    "        train_loss += outputs.loss.item()\n",
    "        train_batch_count += 1\n",
    "\n",
    "    #Evaluation\n",
    "    MODEL.eval()\n",
    "    for batch in tqdm(val_loader, desc=\"Validation batches\"):\n",
    "        input_ids = batch[\"input_ids\"].to(DEVICE)\n",
    "        attention_mask = batch[\"attention_mask\"].to(DEVICE)\n",
    "        labels = batch[\"labels\"].to(DEVICE)\n",
    "        decoder_attention_mask = batch[\"decoder_attention_mask\"].to(DEVICE)\n",
    "\n",
    "        outputs = MODEL(\n",
    "                          input_ids=input_ids,\n",
    "                          attention_mask=attention_mask,\n",
    "                          labels=labels,\n",
    "                          decoder_attention_mask=decoder_attention_mask\n",
    "                        )\n",
    "\n",
    "        OPTIMIZER.zero_grad()\n",
    "        outputs.loss.backward()\n",
    "        OPTIMIZER.step()\n",
    "        val_loss += outputs.loss.item()\n",
    "        val_batch_count += 1\n",
    "\n",
    "    print(f\"{epoch+1}/{2} -> Train loss: {train_loss / train_batch_count}\\tValidation loss: {val_loss/val_batch_count}\")\n",
    "\n",
    "    MODEL.save_pretrained(f\"qa_model-to-batch-{epoch}\")\n",
    "    TOKENIZER.save_pretrained(f\"qa_tokenizer-to-batch-{epoch}\")"
   ],
   "metadata": {
    "colab": {
     "base_uri": "https://localhost:8080/"
    },
    "id": "el88H-QWq4BH",
    "outputId": "3a83b76d-5f5f-4d9e-bf90-569e40d7de2a"
   },
   "id": "el88H-QWq4BH",
   "execution_count": null,
   "outputs": [
    {
     "output_type": "stream",
     "name": "stderr",
     "text": [
      "Training batches:   8%|▊         | 548/6749 [09:35<1:39:21,  1.04it/s]"
     ]
    }
   ]
  },
  {
   "cell_type": "code",
   "source": [
    "MODEL.save_pretrained(\"qa_model\")\n",
    "TOKENIZER.save_pretrained(\"qa_tokenizer\")\n",
    "\n",
    "# Saved files\n",
    "\"\"\"('qa_tokenizer/tokenizer_config.json',\n",
    " 'qa_tokenizer/special_tokens_map.json',\n",
    " 'qa_tokenizer/spiece.model',\n",
    "'qa_tokenizer/added_tokens.json',\n",
    "'qa_tokenizer/tokenizer.json')\"\"\""
   ],
   "metadata": {
    "id": "BYTJ_JKGvDpe"
   },
   "id": "BYTJ_JKGvDpe",
   "execution_count": null,
   "outputs": []
  },
  {
   "cell_type": "code",
   "source": [
    "def predict_answer(context, question, ref_answer=None):\n",
    "    inputs = TOKENIZER(question, context, max_length=Q_LEN, padding=\"max_length\", truncation=True, add_special_tokens=True)\n",
    "\n",
    "    input_ids = torch.tensor(inputs[\"input_ids\"], dtype=torch.long).to(DEVICE).unsqueeze(0)\n",
    "    attention_mask = torch.tensor(inputs[\"attention_mask\"], dtype=torch.long).to(DEVICE).unsqueeze(0)\n",
    "\n",
    "    outputs = MODEL.generate(input_ids=input_ids, attention_mask=attention_mask)\n",
    "\n",
    "    predicted_answer = TOKENIZER.decode(outputs.flatten(), skip_special_tokens=True)\n",
    "\n",
    "    if ref_answer:\n",
    "        # Load the Bleu metric\n",
    "        bleu = evaluate.load(\"google_bleu\")\n",
    "        score = bleu.compute(predictions=[predicted_answer],\n",
    "                            references=[ref_answer])\n",
    "\n",
    "        print(\"Context: \\n\", context)\n",
    "        print(\"\\n\")\n",
    "        print(\"Question: \\n\", question)\n",
    "        return {\n",
    "            \"Reference Answer: \": ref_answer,\n",
    "            \"Predicted Answer: \": predicted_answer,\n",
    "            \"BLEU Score: \": score\n",
    "        }\n",
    "    else:\n",
    "        return predicted_answer"
   ],
   "metadata": {
    "id": "3CTw0-GWvEae"
   },
   "id": "3CTw0-GWvEae",
   "execution_count": null,
   "outputs": []
  },
  {
   "cell_type": "markdown",
   "metadata": {
    "collapsed": false,
    "id": "66023a9ebac2aaac"
   },
   "source": [
    "## Model Prediction"
   ],
   "id": "66023a9ebac2aaac"
  },
  {
   "cell_type": "code",
   "execution_count": 47,
   "outputs": [],
   "source": [
    "test = pd.read_json('../data/verified-wikipedia-dev.json', encoding='utf-8')\n",
    "test_data = test[\"Data\"]"
   ],
   "metadata": {
    "collapsed": false,
    "ExecuteTime": {
     "end_time": "2023-11-29T15:10:23.230897500Z",
     "start_time": "2023-11-29T15:10:23.118404500Z"
    }
   },
   "id": "d2603d5e2c67471b"
  },
  {
   "cell_type": "code",
   "execution_count": 46,
   "outputs": [
    {
     "data": {
      "text/plain": "                                                Data     Domain Split  \\\n0  {'Answer': {'Aliases': ['The Swiss Miss', 'Mar...  Wikipedia   dev   \n1  {'Answer': {'Aliases': ['Baby Buggy', 'Baby bu...  Wikipedia   dev   \n2  {'Answer': {'Aliases': ['Iwerks, Ub', 'Ub Iwer...  Wikipedia   dev   \n3  {'Answer': {'Aliases': ['ISO 3166-1:CH', 'Svis...  Wikipedia   dev   \n4  {'Answer': {'Aliases': ['Receptors, lh', 'LH s...  Wikipedia   dev   \n\n   VerifiedEval  Version  \n0          True        1  \n1          True        1  \n2          True        1  \n3          True        1  \n4          True        1  ",
      "text/html": "<div>\n<style scoped>\n    .dataframe tbody tr th:only-of-type {\n        vertical-align: middle;\n    }\n\n    .dataframe tbody tr th {\n        vertical-align: top;\n    }\n\n    .dataframe thead th {\n        text-align: right;\n    }\n</style>\n<table border=\"1\" class=\"dataframe\">\n  <thead>\n    <tr style=\"text-align: right;\">\n      <th></th>\n      <th>Data</th>\n      <th>Domain</th>\n      <th>Split</th>\n      <th>VerifiedEval</th>\n      <th>Version</th>\n    </tr>\n  </thead>\n  <tbody>\n    <tr>\n      <th>0</th>\n      <td>{'Answer': {'Aliases': ['The Swiss Miss', 'Mar...</td>\n      <td>Wikipedia</td>\n      <td>dev</td>\n      <td>True</td>\n      <td>1</td>\n    </tr>\n    <tr>\n      <th>1</th>\n      <td>{'Answer': {'Aliases': ['Baby Buggy', 'Baby bu...</td>\n      <td>Wikipedia</td>\n      <td>dev</td>\n      <td>True</td>\n      <td>1</td>\n    </tr>\n    <tr>\n      <th>2</th>\n      <td>{'Answer': {'Aliases': ['Iwerks, Ub', 'Ub Iwer...</td>\n      <td>Wikipedia</td>\n      <td>dev</td>\n      <td>True</td>\n      <td>1</td>\n    </tr>\n    <tr>\n      <th>3</th>\n      <td>{'Answer': {'Aliases': ['ISO 3166-1:CH', 'Svis...</td>\n      <td>Wikipedia</td>\n      <td>dev</td>\n      <td>True</td>\n      <td>1</td>\n    </tr>\n    <tr>\n      <th>4</th>\n      <td>{'Answer': {'Aliases': ['Receptors, lh', 'LH s...</td>\n      <td>Wikipedia</td>\n      <td>dev</td>\n      <td>True</td>\n      <td>1</td>\n    </tr>\n  </tbody>\n</table>\n</div>"
     },
     "execution_count": 46,
     "metadata": {},
     "output_type": "execute_result"
    }
   ],
   "source": [
    "test.head(5)"
   ],
   "metadata": {
    "collapsed": false,
    "ExecuteTime": {
     "end_time": "2023-11-29T15:08:35.118039Z",
     "start_time": "2023-11-29T15:08:34.998643800Z"
    }
   },
   "id": "2eeaea9f1fd56899"
  },
  {
   "cell_type": "code",
   "source": [
    "# Testing with first Entry\n",
    "entry = test_data[0]\n",
    "question = entry[\"Question\"]\n",
    "answer = entry[\"Answer\"][\"Value\"]\n",
    "\n",
    "texts = []\n",
    "for pages in entry[\"EntityPages\"]:\n",
    "    filename = pages[\"Filename\"]\n",
    "    filename = re.sub(\"[\\:?*\\\"]\", \"_\", filename)\n",
    "    text = file=open(f\"../evidence/wikipedia/{filename}\", mode=\"r\", encoding=\"utf-8\").read()\n",
    "    texts.append(text)\n",
    "context = \" \".join(texts)\n",
    "\n",
    "# predict_answer(context, question, answer)"
   ],
   "metadata": {
    "id": "4VcdS_javLoe",
    "ExecuteTime": {
     "end_time": "2023-11-29T15:13:08.758700200Z",
     "start_time": "2023-11-29T15:13:08.725736Z"
    }
   },
   "id": "4VcdS_javLoe",
   "execution_count": 48,
   "outputs": []
  },
  {
   "cell_type": "code",
   "execution_count": 49,
   "outputs": [
    {
     "data": {
      "text/plain": "'Tennis is a racket sport that can be played individually against a single opponent (singles) or between two teams of two players each (doubles). Each player uses a tennis racket that is strung with cord to strike a hollow rubber ball covered with felt over or around a net and into the opponent\\'s court. The object of the game is to play the ball in such a way that the opponent is not able to play a valid return. The player who is unable to return the ball will not gain a point, while the opposite player will.\\n\\nTennis is an Olympic sport and is played at all levels of society and at all ages. The sport can be played by anyone who can hold a racket, including wheelchair users. The modern game of tennis originated in Birmingham, England, in the late 19th century as \"lawn tennis\".  It had close connections both to various field (\"lawn\") games such as croquet and bowls as well as to the older racket sport of real tennis. During most of the 19th century, in fact, the term \"tennis\" referred to real tennis, not lawn tennis: for example, in Disraeli\\'s novel Sybil (1845), Lord Eugene De Vere announces that he will \"go down to Hampton Court and play tennis.\" \\n\\nThe rules of tennis have changed little since the 1890s. Two exceptions are that from 1908 to 1961 the server had to keep one foot on the ground at all times, and the adoption of the tiebreak in the 1970s. A recent addition to professional tennis has been the adoption of electronic review technology coupled with a point challenge system, which allows a player to contest the line call of a point.\\n\\nTennis is played by millions of recreational players and is also a popular worldwide spectator sport. The four Grand Slam tournaments (also referred to as the \"Majors\") are especially popular: the Australian Open played on hard courts, the French Open played on red clay courts, Wimbledon played on grass courts, and the US Open played also on hard courts.\\n\\nHistory\\n\\nPredecessors\\n\\nHistorians believe that the game\\'s ancient origin lay in 12th century northern France, where a ball was struck with the palm of the hand.  Louis X of France was a keen player of jeu de paume (\"game of the palm\"), which evolved into real tennis, and became notable as the first person to construct indoor tennis courts in the modern style. Louis was unhappy with playing tennis outdoors and accordingly had indoor, enclosed courts made in Paris \"around the end of the 13th century\". In due course this design spread across royal palaces all over Europe. In June 1316 at Vincennes, Val-de-Marne and following a particularly exhausting game, Louis drank a large quantity of cooled wine and subsequently died of either pneumonia or pleurisy, although there was also suspicion of poisoning. Because of the contemporary accounts of his death, Louis X is history\\'s first tennis player known by name. Another of the early enthusiasts of the game was King Charles V of France, who had a court set up at the Louvre Palace. \\n\\nIt wasn\\'t until the 16th century that rackets came into use, and the game began to be called \"tennis\", from the Old French term tenez, which can be translated as \"hold!\", \"receive!\" or \"take!\", an interjection used as a call from the server to his opponent.  It was popular in England and France, although the game was only played indoors where the ball could be hit off the wall. Henry VIII of England was a big fan of this game, which is now known as real tennis.  During the 18th century and early 19th century, as real tennis declined, new racket sports emerged in England.\\n\\nFurther, the patenting of the first lawn mower in 1830, in Britain, is strongly believed to have been the catalyst, world-wide, for the preparation of modern-style grass courts, sporting ovals, playing fields, pitches, greens, etc. This in turn led to the codification of modern rules for many sports, including lawn tennis, most football codes, lawn bowls and others. \\n\\nOrigins of the modern game\\n\\nBetween 1859 and 1865 Harry Gem and his friend Augurio Perera developed a game that combined elements of racquets and the Basque ball game pelota, which they played on Perera\\'s croquet lawn in Birmingham, England, United Kingdom.   In 1872, along with two local doctors, they founded the world\\'s first tennis club in Leamington Spa.\\n\\nIn December 1873, British army officer Major Walter Clopton Wingfield designed and patented a similar game ;– which he called sphairistikè (, meaning \"ball-playing\"), and was soon known simply as \"sticky\" – for the amusement of guests at a garden party on his friend\\'s estate of Nantclwyd Hall, in Llanelidan, Wales.  According to R. D. C. Evans, turfgrass agronomist, \"Sports historians all agree that [Wingfield] deserves much of the credit for the development of modern tennis.\"   According to Honor Godfrey, museum curator at Wimbledon, Wingfield \"popularized this game enormously. He produced a boxed set which included a net, poles, rackets, balls for playing the game -- and most importantly you had his rules. He was absolutely terrific at marketing and he sent his game all over the world. He had very good connections with the clergy, the law profession, and the aristocracy and he sent thousands of sets out in the first year or so, in 1874.\" The world\\'s oldest tennis tournament, the Wimbledon Championships, were first played in London in 1877.[http://edition.cnn.com/2011/SPORT/tennis/06/14/tennis.wimbledon.125th.anniversary.museum/index.html \"125 years of Wimbledon: From birth of lawn tennis to modern marvels\"]. CNN. Retrieved 21 September 2011 The first Championships culminated a significant debate on how to standardize the rules.\\n\\nIn the U.S. in 1874 Mary Ewing Outerbridge, a young socialite, returned from Bermuda with a sphairistikè set. She became fascinated by the game of tennis after watching British army officers play.  She laid out a tennis court at the Staten Island Cricket Club at Camp Washington, Tompkinsville, Staten Island, New York. The first American National championship was played there in September 1880. An Englishman named O.E Woodhouse won the singles title, and a silver cup worth $100, by defeating Canadian I. F. Hellmuth.  There was also a doubles match which was won by a local pair. There were different rules at each club. The ball in Boston was larger than the one normally used in New York. On 21 May 1881, the United States National Lawn Tennis Association (now the United States Tennis Association) was formed to standardize the rules and organize competitions. The U.S. National Men\\'s Singles Championship, now the US Open, was first held in 1881 at the Newport Casino, Newport, Rhode Island.  The U.S. National Women\\'s Singles Championships were first held in 1887 in Philadelphia. \\n\\nTennis also became popular in France, where the French Championships dates to 1891 although until 1925 it was open only to tennis players who were members of French clubs. Thus, Wimbledon, the US Open, the French Open, and the Australian Open (dating to 1905) became and have remained the most prestigious events in tennis. Together these four events are called the Majors or Slams (a term borrowed from bridge rather than baseball). \\n\\nThe comprehensive rules promulgated in 1924 by the International Lawn Tennis Federation, now known as the International Tennis Federation (ITF), have remained largely stable in the ensuing eighty years, the one major change being the addition of the tiebreak system designed by Jimmy Van Alen.  That same year, tennis withdrew from the Olympics after the 1924 Games but returned 60 years later as a 21-and-under demonstration event in 1984. This reinstatement was credited by the efforts by the then ITF President Philippe Chatrier, ITF General Secretary David Gray and ITF Vice President Pablo Llorens, and support from IOC President Juan Antonio Samaranch. The success of the event was overwhelming and the IOC decided to reintroduce tennis as a full medal sport at Seoul in 1988.  \\n\\nThe Davis Cup, an annual competition between men\\'s national teams, dates to 1900.  The analogous competition for women\\'s national teams, the Fed Cup, was founded as the Federation Cup in 1963 to celebrate the 50th anniversary of the founding of the ITF. \\n\\nIn 1926, promoter C. C. Pyle established the first professional tennis tour with a group of American and French tennis players playing exhibition matches to paying audiences.  The most notable of these early professionals were the American Vinnie Richards and the Frenchwoman Suzanne Lenglen.  Once a player turned pro he or she could not compete in the major (amateur) tournaments.\\n\\nIn 1968, commercial pressures and rumors of some amateurs taking money under the table led to the abandonment of this distinction, inaugurating the Open Era, in which all players could compete in all tournaments, and top players were able to make their living from tennis. With the beginning of the Open Era, the establishment of an international professional tennis circuit, and revenues from the sale of television rights, tennis\\'s popularity has spread worldwide, and the sport has shed its middle-class English-speaking image (although it is acknowledged that this stereotype still exists). \\n\\nIn 1954, Van Alen founded the International Tennis Hall of Fame, a non-profit museum in Newport, Rhode Island.  The building contains a large collection of tennis memorabilia as well as a hall of fame honouring prominent members and tennis players from all over the world. Each year, a grass court tournament and an induction ceremony honoring new Hall of Fame members are hosted on its grounds.\\n\\nEquipment\\n\\nPart of the appeal of tennis stems from the simplicity of equipment required for play. Beginners need only a racket and balls.\\n\\nRackets\\n\\nThe components of a tennis racket include a handle, known as the grip, connected to a neck which joins a roughly elliptical frame that holds a matrix of tightly pulled strings. For the first 100 years of the modern game, rackets were made of wood and of standard size, and strings were of animal gut. Laminated wood construction yielded more strength in rackets used through most of the 20th century until first metal and then composites of carbon graphite, ceramics, and lighter metals such as titanium were introduced. These stronger materials enabled the production of oversized rackets that yielded yet more power. Meanwhile, technology led to the use of synthetic strings that match the feel of gut yet with added durability.\\n\\nUnder modern rules of tennis, the rackets must adhere to the following guidelines; \\n* The hitting area, composed of the strings, must be flat and generally uniform.\\n* The frame of the hitting area may not be more than 29\\xa0inches (73.66\\xa0cm) in length and 12.5\\xa0inches (31.75\\xa0cm) in width.\\n* The entire racket must be of a fixed shape, size, weight, and weight distribution. There may not be any energy source built into the rackets.\\n* The rackets must not provide any kind of communication, instruction or advice to the player during the match.\\nThe rules regarding rackets have changed over time, as material and engineering advances have been made. For example, the maximum length of the frame had been 32\\xa0inches (81.28\\xa0cm) until 1997, when it was shortened to 29\\xa0inches (73.66\\xa0cm). \\n\\nMany companies manufacture and distribute tennis rackets. Wilson, Head and Babolat are some of the more commonly used brands; however, many more companies exist. The same companies sponsor players to use these rackets in the hopes that the company name will become more well known by the public.\\n\\nBalls\\n\\nTennis balls were originally made of cloth strips stitched together with thread and stuffed with feathers.  Modern tennis balls are made of hollow vulcanized rubber with a felt coating. Traditionally white, the predominant colour was gradually changed to optic yellow in the latter part of the 20th century to allow for improved visibility. Tennis balls must conform to certain criteria for size, weight, deformation, and bounce to be approved for regulation play. The International Tennis Federation (ITF) defines the official diameter as 65.41–68.58\\xa0mm (2.575–2.700\\xa0inches). Balls must weigh between 56.0 and 59.4 grams (1.975–2.095 ounces). Tennis balls were traditionally manufactured in the United States and Europe. Although the process of producing the balls has remained virtually unchanged for the past 100 years, the majority of manufacturing now takes place in the Far East. The relocation is due to cheaper labour costs and materials in the region. \\n\\nMiscellaneous\\n\\nAdvanced players improve their performance through a number of accoutrements. Vibration dampeners may be interlaced in the proximal part of the string array for improved feel. Racket handles may be customized with absorbent or rubber-like materials to improve the players\\' grip. Players often use sweat bands on their wrists to keep their hands dry and head bands or bandanas to keep the sweat out of their eyes as well. Finally, although the game can be played in a variety of shoes, specialized tennis shoes have wide, flat soles for stability and a built-up front structure to avoid excess wear.\\n\\nManner of play\\n\\nFor individual terms see: Glossary of tennis\\n\\nCourt\\n\\nTennis is played on a rectangular, flat surface. The court is 78 feet (23.77\\xa0m) long, and 27\\xa0feet (8.23\\xa0m) wide for singles matches and 36\\xa0ft (10.97\\xa0m) for doubles matches. Additional clear space around the court is required in order for players to reach overrun balls. A net is stretched across the full width of the court, parallel with the baselines, dividing it into two equal ends. It is held up by either a metal cable or cord that can be no more than 0.8\\xa0cm (1/3 inch).  The net is 3\\xa0feet 6\\xa0inches (1.067\\xa0m) high at the posts and 3\\xa0feet (0.914\\xa0m) high in the center. The net posts are 3\\xa0feet (0.914\\xa0m) outside the doubles court on each side or, for a singles net, 3\\xa0feet (0.914\\xa0m) outside the singles court on each side.\\n\\nThe modern tennis court owes its design to Major Walter Clopton Wingfield who, in 1873, patented a court much the same as the current one for his stické tennis (sphairistike). This template was modified in 1875 to the court design that exists today, with markings similar to Wingfield\\'s version, but with the hourglass shape of his court changed to a rectangle. \\n\\nTennis is unusual in that it is played on a variety of surfaces.  Grass, clay, and hardcourts of concrete or asphalt topped with acrylic are the most common. Occasionally carpet is used for indoor play, with hardwood flooring having been historically used. Artificial turf courts can also be found.\\n\\nLines\\n\\nThe lines that delineate the width of the court are called the baseline (farthest back) and the service line (middle of the court). The short mark in the center of each baseline is referred to as either the hash mark or the center mark. The outermost lines that make up the length are called the doubles sidelines. These are the boundaries used when doubles is being played. The lines to the inside of the doubles sidelines are the singles sidelines and are used as boundaries in singles play. The area between a doubles sideline and the nearest singles sideline is called the doubles alley, which is considered playable in doubles play. The line that runs across the center of a player\\'s side of the court is called the service line because the serve must be delivered into the area between the service line and the net on the receiving side. Despite its name, this is not where a player legally stands when making a serve. \\n\\nThe line dividing the service line in two is called the center line or center service line. The boxes this center line creates are called the service boxes; depending on a player\\'s position, he or she will have to hit the ball into one of these when serving. A ball is out only if none of it has hit the line or the area inside the lines upon its first bounce. All the lines are required to be between 1 and in width. The baseline can be up to 4 in wide.\\n\\nPlay of a single point\\n\\nThe players (or teams) start on opposite sides of the net. One player is designated the server, and the opposing player is the receiver. The choice to be server or receiver in the first game and the choice of ends is decided by a coin toss before the warm-up starts. Service alternates game by game between the two players (or teams). For each point, the server starts behind the baseline, between the center mark and the sideline. The receiver may start anywhere on their side of the net. When the receiver is ready, the server will serve, although the receiver must play to the pace of the server.\\n\\nIn a legal service, the ball travels over the net (without touching it) and into the diagonally opposite service box. If the ball hits the net but lands in the service box, this is a let or net service, which is void, and the server retakes that serve. The player can serve any number of let services in a point and they are always treated as voids and not as faults. A fault is a serve that falls long or wide of the service box, or does not clear the net. There is also a \"foot fault\", which occurs when a player\\'s foot touches the baseline or an extension of the center mark before the ball is hit. If the second service is also a fault, the server double faults, and the receiver wins the point. However, if the serve is in, it is considered a legal service.\\n\\nA legal service starts a rally, in which the players alternate hitting the ball across the net. A legal return consists of the player or team hitting the ball before it has bounced twice or hit any fixtures except the net, provided that it still falls in the server\\'s court. A player or team cannot hit the ball twice in a row. The ball must travel past the net into the other players\\' court. A ball that hits the net during a rally is still considered a legal return as long as it crosses into the opposite side of the court. The first player or team to fail to make a legal return loses the point. The server then moves to the other side of the service line at the start of a new point.\\n\\nScoring\\n\\nGame, set, match\\n\\nGame\\n\\nA game consists of a sequence of points played with the same player serving. A game is won by the first player to have won at least four points in total and at least two points more than the opponent. The running score of each game is described in a manner peculiar to tennis: scores from zero to three points are described as \"love\", \"fifteen\", \"thirty\", and \"forty\", respectively. If at least three points have been scored by each player, making the player\\'s scores equal at forty apiece, the score is not called out as \"forty-forty\", but rather as \"deuce\". If at least three points have been scored by each side and a player has one more point than his opponent, the score of the game is \"advantage\" for the player in the lead. During informal games, \"advantage\" can also be called \"ad in\" or \"van in\" when the serving player is ahead, and \"ad out\" or \"van out\" when the receiving player is ahead.\\n\\nThe score of a tennis game during play is always read with the serving player\\'s score first. In tournament play, the chair umpire calls the point count (e.g., \"fifteen-love\") after each point. At the end of a game, the chair umpire also announces the winner of the game and the overall score.\\n\\nSet\\n\\nA set consists of a sequence of games played with service alternating between games, ending when the count of games won meets certain criteria. Typically, a player wins a set by winning at least six games and at least two games more than the opponent. If one player has won six games and the opponent five, an additional game is played. If the leading player wins that game, the player wins the set 7–5. If the trailing player wins the game, a tie-break is played. A tie-break, played under a separate set of rules, allows one player to win one more game and thus the set, to give a final set score of 7–6. A \"love\" set means that the loser of the set won zero games, colloquially termed a \\'jam donut\\' in the USA.  In tournament play, the chair umpire announces the winner of the set and the overall score. The final score in sets is always read with the winning player\\'s score first, e.g. \"6–2, 4–6, 6–0, 7–5\".\\n\\nMatch\\n\\nA match consists of a sequence of sets. The outcome is determined through a best of three or five sets system. Recreational players may agree to play any number of sets, depending upon time availability or stamina. On the professional circuit, men play best-of-five-set matches at all four Grand Slam tournaments, Davis Cup, and the final of the Olympic Games and best-of-three-set matches at all other tournaments, while women play best-of-three-set matches at all tournaments. The first player to win two sets in a best-of-three, or three sets in a best-of-five, wins the match.  Only in the final sets of matches at the Australian Open, the French Open, Wimbledon, the Olympic Games, Davis Cup (until 2015), and Fed Cup are tie-breaks not played. In these cases, sets are played indefinitely until one player has a two-game lead, leading to some remarkably long matches.\\n\\nIn tournament play, the chair umpire announces the end of the match with the well-known phrase \"Game, set, match\" followed by the winning person\\'s or team\\'s name.\\n\\nSpecial point terms\\n\\nGame point\\n\\nA game point occurs in tennis whenever the player who is in the lead in the game needs only one more point to win the game. The terminology is extended to sets (set point), matches (match point), and even championships (championship point). For example, if the player who is serving has a score of 40-love, the player has a triple game point (triple set point, etc.) as the player has three consecutive chances to win the game. Game points, set points, and match points are not part of official scoring and are not announced by the chair umpire in tournament play.\\n\\nBreak point\\n\\nA break point occurs if the receiver, not the server, has a chance to win the game with the next point. Break points are of particular importance because serving is generally considered advantageous, with servers being expected to win games in which they are serving. A receiver who has one (score of 30–40 or advantage), two (score of 15–40) or three (score of love-40) consecutive chances to win the game has break point, double break point or triple break point, respectively. If the receiver does, in fact, win their break point, the game is awarded to the receiver, and the receiver is said to have converted their break point. If the receiver fails to win their break point it is called a failure to convert. Winning break points, and thus the game, is also referred to as breaking serve, as the receiver has disrupted, or broken the natural advantage of the server. If in the following game the previous server also wins a break point it is referred to as breaking back. Except where tie-breaks apply, at least one break of serve is required to win a set.\\n\\nRule variations\\n\\n* No ad\\nFrom \\'No advantage\\'. Scoring method created by Jimmy Van Alen. The first player or doubles team to win four points wins the game, regardless of whether the player or team is ahead by two points. When the game score reaches three points each, the receiver chooses which side of the court (advantage court or deuce court) the service is to be delivered on the seventh and game-deciding point. Utilized by World Team Tennis professional competition, ATP tours, WTA tours, ITF Pro Doubles and ITF Junior Doubles.  \\n\\n* Pro set\\nInstead of playing multiple sets, players may play one \"pro set\". A pro set is first to 8 (or 10) games by a margin of two games, instead of first to 6 games. A 12-point tie-break is usually played when the score is 8–8 (or 10–10). These are often played with no-ad scoring.\\n\\n* Match tie-break\\nThis is sometimes played instead of a third set. A match tie-break (also called super tie-break) is played like a regular tie-break, but the winner must win ten points instead of seven. Match tie-breaks are used in the Hopman Cup, Grand Slams (excluding Wimbledon) and the Olympic Games for mixed doubles; on the ATP (since 2006), WTA (since 2007) and ITF (excluding four Grand Slam tournaments and the Davis Cup) tours for doubles and as a player\\'s choice in USTA league play.\\n\\nAnother, however informal, tennis format is called Canadian doubles. This involves three players, with one person playing a doubles team. The single player gets to utilize the alleys normally reserved only for a doubles team. Conversely, the doubles team does not use the alleys when executing a shot. The scoring is the same as a regular game. This format is not sanctioned by any official body.\\n\\n\"Australian doubles\", another informal and unsanctioned form of tennis, is played with similar rules to the Canadian doubles style, only in this version, players rotate court position after each game. As such, each player plays doubles and singles over the course of a match, with the singles player always serving. Scoring styles vary, but one popular method is to assign a value of 2 points to each game, with the server taking both points if he or she holds serve and the doubles team each taking one if they break serve.\\n\\nWheelchair tennis can be played by able-bodied players as well as people who require a wheelchair for mobility. An extra bounce is permitted. This rule makes it possible to have mixed wheelchair and able-bodied matches. It is possible for a doubles team to consist of a wheelchair player and an able-bodied player (referred to as \"one-up, one-down\"), or for a wheelchair player to play against an able-bodied player. In such cases, the extra bounce is permitted for the wheelchair users only.\\n\\nOfficials\\n\\nIn most professional play and some amateur competition, there is an officiating head judge or chair umpire (usually referred to as the umpire), who sits in a raised chair to one side of the court. The umpire has absolute authority to make factual determinations. The umpire may be assisted by line judges, who determine whether the ball has landed within the required part of the court and who also call foot faults. There also may be a net judge who determines whether the ball has touched the net during service. The umpire has the right to overrule a line judge or a net judge if the umpire is sure that a clear mistake has been made.\\n\\nIn some tournaments, line judges who would be calling the serve, were assisted by electronic sensors that beeped to indicate the serve was out. This system was called \"Cyclops\".  Cyclops has since largely been replaced by the Hawk-Eye system.   In professional tournaments using this system, players are allowed three unsuccessful appeals per set, plus one additional appeal in the tie-break to challenge close line calls by means of an electronic review. The US Open, Miami Masters, US Open Series, and World Team Tennis started using this challenge system in 2006 and the Australian Open and Wimbledon introduced the system in 2007.  In clay-court matches, such as at the French Open, a call may be questioned by reference to the mark left by the ball\\'s impact on the court surface.\\n\\nThe referee, who is usually located off the court, is the final authority about tennis rules. When called to the court by a player or team captain, the referee may overrule the umpire\\'s decision if the tennis rules were violated (question of law) but may not change the umpire\\'s decision on a question of fact. If, however, the referee is on the court during play, the referee may overrule the umpire\\'s decision (This would only happen in Davis Cup or Fed Cup matches, not at the World Group level, when a chair umpire from a non-neutral country is in the chair).\\n\\nBall boys and girls may be employed to retrieve balls, pass them to the players, and hand players their towels. They have no adjudicative role. In rare events (e.g., if they are hurt or if they have caused a hindrance), the umpire may ask them for a statement of what actually happened. The umpire may consider their statements when making a decision. In some leagues, especially junior leagues, players make their own calls, trusting each other to be honest. This is the case for many school and university level matches. The referee or referee\\'s assistant, however, can be called on court at a player\\'s request, and the referee or assistant may change a player\\'s call. In unofficiated matches, a ball is out only if the player entitled to make the call is sure that the ball is out.\\n\\nJunior tennis\\n\\nIn tennis, a junior is a player under 18 who is still legally protected by a parent or guardian. Players on the main adult tour who are under 18 must have documents signed by a parent or guardian. These players, however, are still eligible to play in junior tournaments.\\n\\nThe International Tennis Federation (ITF) conducts a junior tour that allows juniors to establish a world ranking and an Association of Tennis Professionals (ATP) or Women\\'s Tennis Association (WTA) ranking. Most juniors who enter the international circuit do so by progressing through ITF, Satellite, Future, and Challenger tournaments before entering the main circuit. The latter three circuits also have adults competing in them. Some juniors, however, such as Australian Lleyton Hewitt and Frenchman Gaël Monfils, have catapulted directly from the junior tour to the ATP tour by dominating the junior scene or by taking advantage of opportunities given to them to participate in professional tournaments.\\n\\nIn 2004, the ITF implemented a new rankings scheme to encourage greater participation in doubles, by combining two rankings (singles and doubles) into one combined tally.  Junior tournaments do not offer prize money except for the Grand Slam tournaments, which are the most prestigious junior events. Juniors may earn income from tennis by participating in the Future, Satellite, or Challenger tours. Tournaments are broken up into different tiers offering different amounts of ranking points, culminating with Grade A.\\n\\nLeading juniors are allowed to participate for their nation in the Junior Fed Cup and Davis Cup competitions. To succeed in tennis often means having to begin playing at a young age. To facilitate and nurture a junior\\'s growth in tennis, almost all tennis playing nations have developed a junior development system. Juniors develop their play through a range of tournaments on all surfaces, accommodating all different standards of play. Talented juniors may also receive sponsorships from governing bodies or private institutions.\\n\\nMatch play\\n\\nContinuity\\n\\nA tennis match is intended to be continuous. Because stamina is a relevant factor, arbitrary delays are not permitted. In most cases, service is required to occur no more than 20 seconds after the end of the previous point. This is increased to 90 seconds when the players change ends (after every odd-numbered game), and a 2-minute break is permitted between sets. Other than this, breaks are permitted only when forced by events beyond the players\\' control, such as rain, damaged footwear, damaged racket, or the need to retrieve an errant ball. Should a player be determined to be stalling repeatedly, the chair umpire may initially give a warning followed by subsequent penalties of \"point\", \"game\", and default of the match for the player who is consistently taking longer than the allowed time limit. \\n\\nIn the event of a rain delay, darkness or other external conditions halting play, the match is resumed at a later time, with the same score as at the time of the delay, and the players at the same end of the court when rain halted play, or at the same position (north or south) if play is resumed on a different court.\\n\\nBall changes\\n\\nBalls wear out quickly in serious play and, therefore, in ATP and WTA tournaments, they are changed after every nine games with the first change occurring after only seven games, because the first set of balls is also used for the pre-match warm-up. As a courtesy to the receiver, the server will often signal to the receiver before the first serve of the game in which new balls are used as a reminder that they are using new balls. However, in ITF tournaments like Fed Cup, the balls are changed in a 9–11 style. Continuity of the balls\\' condition is considered part of the game, so if a re-warm-up is required after an extended break in play (usually due to rain), then the re-warm-up is done using a separate set of balls, and use of the match balls is resumed only when play resumes.\\n\\nOn-court coaching\\n\\nA recent rule change is to allow coaching on court on a limited basis during a match.     This has been introduced in women\\'s tennis for WTA Tour events in 2009 and allows the player to request her coach once per set. \\n\\nShots\\n\\nA competent tennis player has eight basic shots in his or her repertoire: the serve, forehand, backhand, volley, half-volley, overhead smash, drop shot, and lob.\\n\\nGrip\\n\\nA grip is a way of holding the racket in order to hit shots during a match. The grip affects the angle of the racket face when it hits the ball and influences the pace, spin, and placement of the shot. Players use various grips during play, including the Continental (The \"Handshake Grip\"), Eastern (Can be either semi-eastern or full eastern. Usually used for backhands.), and Western (semi-western or full western, usually for forehand grips) grips. Most players change grips during a match depending on what shot they are hitting; for example, slice shots and serves call for a Continental grip. \\n\\nServe\\n\\nA serve (or, more formally, a \"service\") in tennis is a shot to start a point. The serve is initiated by tossing the ball into the air and hitting it (usually near the apex of its trajectory) into the diagonally opposite service box without touching the net. The serve may be hit under- or overhand although underhand serving remains a rarity.  If the ball hits the net on the first serve and bounces over into the correct diagonal box then it is called a \"let\" and the server gets two more additional serves to get it in. There can also be a let if the server serves the ball and the receiver isn\\'t prepared.  If the server misses his or her first serve and gets a let on the second serve, then they get one more try to get the serve in the box.\\n\\nExperienced players strive to master the conventional overhand serve to maximize its power and placement. The server may employ different types of serve including flat serve, topspin serve, slice serve, and kick (American twist) serve. A reverse type of spin serve is hit in a manner that spins the ball opposite the natural spin of the server, the spin direction depending upon right- or left-handedness. If the ball is spinning counterclockwise, it will curve right from the hitter\\'s point of view and curve left if spinning clockwise. \\n\\nSome servers are content to use the serve simply to initiate the point; however, advanced players often try to hit a winning shot with their serve. A winning serve that is not touched by the opponent is called an \"ace\".\\n\\nForehand\\n\\nFor a right-handed player, the forehand is a stroke that begins on the right side of the body, continues across the body as contact is made with the ball, and ends on the left side of the body. There are various grips for executing the forehand, and their popularity has fluctuated over the years. The most important ones are the continental, the eastern, the semi-western, and the western. For a number of years, the small, frail 1920s player Bill Johnston was considered by many to have had the best forehand of all time, a stroke that he hit shoulder-high using a western grip. Few top players used the western grip after the 1920s, but in the latter part of the 20th century, as shot-making techniques and equipment changed radically, the western forehand made a strong comeback and is now used by many modern players. No matter which grip is used, most forehands are generally executed with one hand holding the racket, but there have been fine players with two-handed forehands. In the 1940s and 50s, the Ecuadorian/American player Pancho Segura used a two-handed forehand to achieve a devastating effect against larger, more powerful players. Players such as Monica Seles or France\\'s Fabrice Santoro and Marion Bartoli are also notable players known for their two-handed forehands. \\n\\nBackhand\\n\\nFor right-handed players, the backhand is a stroke that begins on the left side of their body, continues across their body as contact is made with the ball, and ends on the right side of their body. It can be executed with either one hand or with both and is generally considered more difficult to master than the forehand. For most of the 20th century, the backhand was performed with one hand, using either an eastern or a continental grip. The first notable players to use two hands were the 1930s Australians Vivian McGrath and John Bromwich, but they were lonely exceptions. The two-handed grip gained popularity in the 1970s as Björn Borg, Chris Evert, Jimmy Connors, and later Mats Wilander and Marat Safin used it to great effect, and it is now used by a large number of the world\\'s best players, including Rafael Nadal and Serena Williams. \\n\\nTwo hands give the player more control, while one hand can generate a slice shot, applying backspin on the ball to produce a low trajectory bounce. Reach is also limited with the two-handed shot. The player long considered to have had the best backhand of all time, Don Budge, had a powerful one-handed stroke in the 1930s and 1940s that imparted topspin onto the ball. Ken Rosewall, another player noted for his one-handed backhand, used a very accurate slice backhand through the 1950s and 1960s. A small number of players, notably Monica Seles, use two hands on both the backhand and forehand sides.\\n\\nOther shots\\n\\nA volley is a shot returned to the opponent in mid-air before the ball bounces, generally performed near the net, and is usually made with a stiff-wristed punching motion to hit the ball into an open area of the opponent\\'s court. The half volley is made by hitting the ball on the rise just after it has bounced, also generally in the vicinity of the net, and played with the racket close to the ground.  The swinging volley is hit out of the air as the player approaches the net. It is an offensive shot used to take preparation time away from the opponent, as it returns the ball into the opponent\\'s court much faster than a standard volley.\\n\\nFrom a poor defensive position on the baseline, the lob can be used as either an offensive or defensive weapon, hitting the ball high and deep into the opponent\\'s court to either enable the lobber to get into better defensive position or to win the point outright by hitting it over the opponent\\'s head. If the lob is not hit deeply enough into the other court, however, an opponent near the net may then hit an overhead smash, a hard, serve-like shot, to try to end the point.\\n\\nA difficult shot in tennis is the return of an attempted lob over the backhand side of a player. When the contact point is higher than the reach of a two-handed backhand, most players will try to execute a high slice (under the ball or sideways). Fewer players attempt the backhand sky-hook or smash. Rarely, a player will go for a high topspin backhand, while themselves in the air. A successful execution of any of these alternatives requires balance and timing, with less margin of error than the lower contact point backhands, since this shot is a break in the regular pattern of play.\\n\\nIf an opponent is deep in his court, a player may suddenly employ an unexpected drop shot, by softly tapping the ball just over the net so that the opponent is unable to run in fast enough to retrieve it. Advanced players will often apply back spin to a drop shot, causing the ball to \"skid\" upon landing and bounce sideways, with less forward momentum toward their opponent, or even backwards towards the net, thus making it even more difficult to return.\\n\\nInjuries\\n\\nMuscle strain is one of the most common injuries in tennis.  When an isolated large-energy appears during the muscle contraction and at the same time body weight apply huge amount of pressure to the lengthened muscle which can result in the occurrence of muscle strain.  Inflammation and bleeding are triggered when muscle strain occur which resulted in redness, pain and swelling. Overuse is also common in tennis players from all level. Muscle, cartilage, nerves, bursae, ligaments and tendons may be damaged from overuse. The repetitive use of a particular muscle without time for repair and recover in the most common case among the injury.\\n\\nTournaments\\n\\nTournaments are often organized by gender and number of players. Common tournament configurations include men\\'s singles, women\\'s singles, and doubles, where two players play on each side of the net. Tournaments may be organized for specific age groups, with upper age limits for youth and lower age limits for senior players. Example of this include the Orange Bowl and Les Petits As junior tournaments. There are also tournaments for players with disabilities, such as wheelchair tennis and deaf tennis.  In the four Grand Slam tournaments, the singles draws are limited to 128 players for each gender.\\n\\nMost large tournaments seed players, but players may also be matched by their skill level. According to how well a person does in sanctioned play, a player is given a rating that is adjusted periodically to maintain competitive matches. For example, the United States Tennis Association administers the National Tennis Rating Program (NTRP), which rates players between 1.0 and 7.0 in 1/2 point increments. Average club players under this system would rate 3.0–4.5 while world class players would be 7.0 on this scale.\\n\\nGrand Slam tournaments\\n\\nThe four Grand Slam tournaments are considered to be the most prestigious tennis events in the world. They are held annually and comprise, in chronological order, the Australian Open, the French Open, Wimbledon, and the US Open. Apart from the Olympic Games, Davis Cup, Fed Cup, and Hopman Cup, they are the only tournaments regulated by the International Tennis Federation (ITF). The ITF\\'s national associations, Tennis Australia (Australian Open), the Fédération Française de Tennis (French Open), the Lawn Tennis Association (Wimbledon) and the United States Tennis Association (US Open) are delegated the responsibility to organize these events.\\n\\nAside from the historical significance of these events, they also carry larger prize funds than any other tour event and are worth double the number of ranking points to the champion than in the next echelon of tournaments, the Masters 1000 (men) and Premier events (women).  Another distinguishing feature is the number of players in the singles draw. There are 128, more than any other professional tennis tournament. This draw is composed of 32 seeded players, other players ranked in the world\\'s top 100, qualifiers, and players who receive invitations through wild cards. Grand Slam men\\'s tournaments have best-of-five set matches while the women play best-of-three. Grand Slam tournaments are among the small number of events that last two weeks, the others being the Indian Wells Masters and the Miami Masters.\\n\\nCurrently, the Grand Slam tournaments are the only tour events that have mixed doubles contests. Grand Slam tournaments are held in conjunction with wheelchair tennis tournaments and junior tennis competitions. These tournaments also contain their own idiosyncrasies. For example, players at Wimbledon are required to wear predominantly white. Andre Agassi chose to skip Wimbledon from 1988 through 1990 citing the event\\'s traditionalism, particularly its \"predominantly white\" dress code.  Wimbledon has its own particular methods for disseminating tickets, often leading tennis fans to follow complex procedures to obtain tickets. \\n\\n* The international tournament began in 1925\\n\\nMen\\'s tournament structure\\n\\nMasters 1000\\n\\nThe ATP World Tour Masters 1000 is a group of nine tournaments that form the second-highest echelon in men\\'s tennis. Each event is held annually, and a win at one of these events is worth 1000 ranking points. When the ATP, led by Hamilton Jordan, began running the men\\'s tour in 1990, the directors designated the top nine tournaments, outside of the Grand Slam events, as \"Super 9\" events.  In 2000 this became the Tennis Masters Series and in 2004 the ATP Masters Series. In November at the end of the tennis year, the world\\'s top eight players compete in the ATP World Tour Finals, a tournament with a rotating locale. It is currently held in London, England. \\n\\nIn August 2007 the ATP announced major changes to the tour that were introduced in 2009. The Masters Series was renamed to the \"Masters 1000\", the addition of the number 1000 referring to the number of ranking points earned by the winner of each tournament. Contrary to earlier plans, the number of tournaments was not reduced from nine to eight and the Monte Carlo Masters remains part of the series although, unlike the other events, it does not have a mandatory player commitment. The Hamburg Masters has been downgraded to a 500-point event. The Madrid Masters moved to May and onto clay courts, and a new tournament in Shanghai took over Madrid\\'s former indoor October slot. As of 2011 six of the nine \"1000\" level tournaments are combined ATP and WTA events. \\n\\n250 and 500 Series\\n\\n \\nThe third and fourth tier of men\\'s tennis tournaments are formed by the ATP World Tour 500 series, consisting of 11 tournaments, and the ATP World Tour 250 series with 40 tournaments. Like the ATP World Tour Masters 1000, these events offer various amounts of prize money and the numbers refer to the amount of ranking points earned by the winner of a tournament. The Dubai Tennis Championships offer the largest financial incentive to players, with total prize money of US$2,313,975 (2012).  These series have various draws of 28, 32, 48 and 56 for singles and 16 and 24 for doubles. It is mandatory for leading players to enter at least four 500 events, including at least one after the US Open.\\n\\nChallenger Tour and Futures tournaments\\n\\nThe Challenger Tour for men is the lowest level of tournament administered by the ATP. It is composed of about 150 events and, as a result, features a more diverse range of countries hosting events.  The majority of players use the Challenger Series at the beginning of their career to work their way up the rankings. Andre Agassi, between winning Grand Slam tournaments, plummeted to World No. 141 and used Challenger Series events for match experience and to progress back up the rankings.  The Challenger Series offers prize funds of between US$25,000 and US$150,000.\\n\\nBelow the Challenger Tour are the Futures tournaments, events on the ITF Men\\'s Circuit. These tournaments also contribute towards a player\\'s ATP rankings points. Futures Tournaments offer prize funds of between US$10,000 and US$15,000.  Approximately 530 Futures Tournaments are played each year.\\n\\nWomen\\'s tournament structure\\n\\nPremier events\\n\\nPremier events for women form the most prestigious level of events on the Women\\'s Tennis Association Tour after the Grand Slam tournaments. These events offer the largest rewards in terms of points and prize money. Within the Premier category are Premier Mandatory, Premier 5, and Premier tournaments. The Premier events were introduced in 2009 replacing the previous Tier I and II tournament categories. Currently four tournaments are Premier Mandatory, five tournaments are Premier 5, and twelve tournaments are Premier. The first tiering system in women\\'s tennis was introduced in 1988. At the time of its creation, only two tournaments, the Lipton International Players Championships in Florida and the German Open in Berlin, comprised the Tier I category.\\n\\nInternational events\\n\\nInternational tournaments are the second main tier of the WTA tour and consist of 31 tournaments, with a prize money for every event at U.S.$220,000, except for the year-ending Commonwealth Bank Tournament of Champions in Bali, which has prize money of U.S.$600,000.\\n\\nPlayers\\n\\nProfessional players\\n\\nProfessional tennis players enjoy the same relative perks as most top sports personalities: clothing, equipment and endorsements. Like players of other individual sports such as golf, they are not salaried, but must play and finish highly in tournaments to obtain money.\\n\\nIn recent years, some controversy has surrounded the involuntary or deliberate noise caused by players\\' grunting.\\n\\nGrand Slam tournament winners\\n\\nThe following players have won at least five singles titles at Grand Slam tournaments:\\n\\n;Female\\n* Margaret Court (24)\\n* Serena Williams (22)\\n* Steffi Graf (22)\\n* Helen Wills Moody (19)\\n* Chris Evert (18)\\n* Martina Navratilova (18)\\n* Billie Jean King (12)\\n* Maureen Connolly Brinker (9)\\n* Monica Seles (9)\\n* Molla Bjurstedt Mallory (8)\\n* Suzanne Lenglen (8)\\n* Dorothea Lambert Chambers (7)\\n* Maria Bueno (7)\\n* Evonne Goolagong Cawley (7)\\n* Venus Williams (7)\\n* Justine Henin (7)\\n* Blanche Bingley Hillyard (6)\\n* Doris Hart (6)\\n* Margaret Osborne duPont (6)\\n* Nancye Wynne Bolton (6)\\n* Louise Brough Clapp (6)\\n* Lottie Dod (5)\\n* Charlotte Cooper Sterry (5)\\n* Daphne Akhurst Cozens (5)\\n* Helen Jacobs (5)\\n* Alice Marble (5)\\n* Pauline Betz Addie (5)\\n* Althea Gibson (5)\\n* Martina Hingis (5)\\n* Maria Sharapova (5)\\n\\n;Male\\n* Roger Federer (17)\\n* Pete Sampras (14)\\n* Rafael Nadal (14)\\n* Roy Emerson (12)\\n* Novak Djokovic (12)\\n* Rod Laver (11)\\n* Björn Borg (11)\\n* Bill Tilden (10)\\n* Fred Perry (8)\\n* Ken Rosewall (8)\\n* Jimmy Connors (8)\\n* Ivan Lendl (8)\\n* Andre Agassi (8)\\n* William Renshaw (7)\\n* Richard Sears (7)\\n* William Larned (7)\\n* Henri Cochet (7)\\n* René Lacoste (7)\\n* John Newcombe (7)\\n* John McEnroe (7)\\n* Mats Wilander (7)\\n* Lawrence Doherty (6)\\n* Anthony Wilding (6)\\n* Donald Budge (6)\\n* Jack Crawford (6)\\n* Boris Becker (6)\\n* Stefan Edberg (6)\\n* Frank Sedgman (5)\\n* Tony Trabert (5)\\n\\nGreatest male players\\n\\nA frequent topic of discussion among tennis fans and commentators is who was the greatest male singles player of all time. By a large margin, an Associated Press poll in 1950 named Bill Tilden as the greatest player of the first half of the 20th century.  From 1920 to 1930, Tilden won singles titles at Wimbledon three times and the U.S. Championships seven times. In 1938, however, Donald Budge became the first person to win all four major singles titles during the same calendar year, the Grand Slam, and won six consecutive major titles in 1937 and 1938. Tilden called Budge \"the finest player 365 days a year that ever lived.\"  And in his 1979 autobiography, Jack Kramer said that, based on consistent play, Budge was the greatest player ever.  Some observers, however, also felt that Kramer deserved consideration for the title. Kramer was among the few who dominated amateur and professional tennis during the late 1940s and early 1950s. Tony Trabert has said that of the players he saw before the start of the open era, Kramer was the best male champion. \\n\\nBy the latter half of the 1950s and 1960s, Budge and others had added Pancho Gonzales and Lew Hoad to the list of contenders. Budge reportedly believed that Gonzales was the greatest player ever.  Gonzales said about Hoad, \"When Lew\\'s game was at its peak nobody could touch him.\\xa0... I think his game was the best game ever. Better than mine. He was capable of making more shots than anybody. His two volleys were great. His overhead was enormous. He had the most natural tennis mind with the most natural tennis physique.\" \\n\\nDuring the open era, first Rod Laver and then more recently Björn Borg and Pete Sampras were regarded by many of their contemporaries as among the greatest ever. Andre Agassi, the first of two male players in history to have achieved a Career Golden Slam in singles tennis (followed by Rafael Nadal), has been called the best service returner in the history of the game.    He is the first man to win slams on all modern surfaces (previous holders of all slams played in an era of grass and clay only), and is regarded by a number of critics and fellow players to be among the greatest players of all time.   \\n\\nRoger Federer is now considered by many observers to have the most \"complete\" game in modern tennis. He has won 17 grand slam titles and 6 world tour finals, the most for any male player. Many experts of tennis, former tennis players and his own tennis peers believe Federer is the greatest player in the history of the game.        Federer\\'s biggest rival Rafael Nadal is regarded as the greatest competitor in tennis history by some former players and is regarded to have the potential to be the greatest of all time.   Nadal is regarded as the greatest clay court player of all time. \\n\\nGreatest female players\\n\\nAs with the men there are frequent discussions about who is the greatest female singles player of all time with Steffi Graf, Martina Navratilova and Serena Williams being the three players most often nominated.\\n\\nIn March 2012 the TennisChannel published a combined list of the 100 greatest men and women tennis players of all time.  It ranked Steffi Graf as the greatest female player (in 3rd place overall), followed by Martina Navratilova (4th place) and Margaret Court (8th place). The rankings were determined by an international panel.\\n\\nSportwriter John Wertheim of Sports Illustrated stated in an article in July 2010 that Serena Williams is the greatest female tennis player ever with the argument that \"Head-to-head, on a neutral surface (i.e. hard courts), everyone at their best, I can\\'t help feeling that she crushes the other legends.\".  In a reaction to this article Yahoo sports blog Busted Racket published a list of the top-10 women\\'s tennis players of all time placing Martina Navratilova in first spot.  This top-10 list was similar to the one published in June 2008 by the Bleacher Report who also ranked Martina Navratilova as the top female player of all time. \\n\\nSteffi Graf is considered by some to be the greatest female player. Billie Jean King said in 1999, \"Steffi is definitely the greatest women\\'s tennis player of all time.\" Martina Navratilova has included Graf on her list of great players. In December 1999, Graf was named the greatest female tennis player of the 20th century by a panel of experts assembled by the Associated Press.  Tennis writer Steve Flink, in his book The Greatest Tennis Matches of the Twentieth Century, named her as the best female player of the 20th century, directly followed by Martina Navratilova. \\n\\nTennis magazine selected Martina Navratilova as the greatest female tennis player for the years 1965 through 2005.   Tennis historian and journalist Bud Collins has called Navratilova \"arguably, the greatest player of all time.\" Billie Jean King said about Navratilova in 2006, \"She\\'s the greatest singles, doubles and mixed doubles player who\\'s ever lived.\" \\n\\nIn popular culture\\n\\n* David Foster Wallace, an amateur tennis player himself at Urbana High School in Illinois,  included tennis in many of his works of nonfiction and fiction including \"Tennis Player Michael Joyce\\'s Professional Artistry as a Paradigm of Certain Stuff about Choice, Freedom, Discipline, Joy, Grotesquerie, and Human Completeness,\" the autobiographical piece \"Derivative Sport in Tornado Alley,\" and Infinite Jest, which is partially set at the fictional \"Enfield Tennis Academy\" in Massachusetts.\\n* Japanese Manga series The Prince of Tennis revolves around the tennis prodigy Echizen Ryoma and tennis matches between rival schools. \\n* The Royal Tenenbaums (2001) features Richie Tenenbaum (Luke Wilson), a tennis pro who suffers from depression and has a breakdown on court in front of thousands of fans. \\n* Wimbledon (2004) is a film about a discouraged pro tennis player (Paul Bettany) who meets a young woman on the women\\'s tennis circuit (Kirsten Dunst) who helps him find his drive to go and win Wimbledon. \\n* In The Squid and the Whale (2005), Joan (Laura Linney) has an affair with her kids\\' tennis coach, Ivan (William Baldwin). In a symbolic scene, Joan\\'s ex-husband, Bernard (Jeff Daniels), loses a tennis match against Ivan in front of the kids. \\n* Woody Allen\\'s Match Point (2005) features a love affair between a former tennis pro (Jonathan Rhys Meyers) and his best friend\\'s fiance (Scarlett Johansson). \\n* Confetti (2006) is a mockumentary which sees three couples competing to win the title of \"Most Original Wedding of the Year\". One competing couple (Meredith MacNeill and Stephen Mangan) are a pair of hyper-competitive professional tennis players holding a tennis-themed wedding. \\n* There are several tennis video games including Mario Tennis, the TopSpin series, Wii Sports, and Grand Slam Tennis.'"
     },
     "execution_count": 49,
     "metadata": {},
     "output_type": "execute_result"
    }
   ],
   "source": [
    "context"
   ],
   "metadata": {
    "collapsed": false,
    "ExecuteTime": {
     "end_time": "2023-11-29T15:14:09.749415800Z",
     "start_time": "2023-11-29T15:14:09.684789100Z"
    }
   },
   "id": "d505f271567fcc14"
  },
  {
   "cell_type": "code",
   "source": [
    "predictions = {}\n",
    "for entry in test_data:\n",
    "    question = entry[\"Question\"]\n",
    "    answer = entry[\"Answer\"][\"Value\"]\n",
    "    \n",
    "    texts = []\n",
    "    for pages in entry[\"EntityPages\"]:\n",
    "        filename = pages[\"Filename\"]\n",
    "        filename = re.sub(\"[\\:?*\\\"]\", \"_\", filename)\n",
    "        text = file=open(f\"../evidence/wikipedia/{filename}\", mode=\"r\", encoding=\"utf-8\").read()\n",
    "        texts.append(text)\n",
    "    context = \" \".join(texts)\n",
    "    predictions[entry[\"question_id\"]] = predict_answer(context, question)"
   ],
   "metadata": {
    "id": "VKf460VDyyKp"
   },
   "id": "VKf460VDyyKp",
   "execution_count": null,
   "outputs": []
  },
  {
   "cell_type": "code",
   "execution_count": null,
   "metadata": {
    "id": "0iyzcxvTSAqK"
   },
   "outputs": [],
   "source": [
    "if not os.path.exists(\"triviaqa/predictions\"):\n",
    "        os.makedirs(\"triviaqa/predictions\")\n",
    "\n",
    "# Convert the dictionary to a JSON string\n",
    "json_string = json.dumps(predictions)\n",
    "\n",
    "# Write the JSON string to a file\n",
    "with open(\"triviaqa/predictions/t5_predictions.json\", \"w\") as f:\n",
    "    f.write(json_string)"
   ],
   "id": "0iyzcxvTSAqK"
  },
  {
   "cell_type": "markdown",
   "metadata": {
    "collapsed": false,
    "id": "c847ecf167dcae10"
   },
   "source": [
    "## Evaluation"
   ],
   "id": "c847ecf167dcae10"
  },
  {
   "cell_type": "code",
   "execution_count": null,
   "metadata": {
    "id": "yY5JzsGtcocO"
   },
   "outputs": [],
   "source": [
    "import sys\n",
    "sys.path.append(\"./triviaqa\")"
   ],
   "id": "yY5JzsGtcocO"
  },
  {
   "cell_type": "code",
   "execution_count": null,
   "metadata": {
    "id": "eb6d4a817c179430"
   },
   "outputs": [],
   "source": [
    "from triviaqa.evaluation.triviaqa_evaluation import evaluate_triviaqa\n",
    "from triviaqa.utils.dataset_utils import *\n",
    "from triviaqa.utils.utils import read_json"
   ],
   "id": "eb6d4a817c179430"
  },
  {
   "cell_type": "code",
   "execution_count": null,
   "metadata": {
    "id": "78714714f74e8590"
   },
   "outputs": [],
   "source": [
    "dataset_file = 'triviaqa/sets/evaluation.json'\n",
    "prediction_file = 'triviaqa/predictions/t5_predictions.json'\n",
    "\n",
    "expected_version = 1.0\n",
    "dataset_json = read_triviaqa_data(dataset_file)\n",
    "if dataset_json['Version'] != expected_version:\n",
    "    print('Evaluation expects v-{} , but got dataset with v-{}'.format(expected_version,dataset_json['Version']),\n",
    "          file=sys.stderr)\n",
    "key_to_ground_truth = get_key_to_ground_truth(dataset_json)\n",
    "predictions = read_json(prediction_file)\n",
    "eval_dict = evaluate_triviaqa(key_to_ground_truth, predictions)"
   ],
   "id": "78714714f74e8590"
  },
  {
   "cell_type": "code",
   "execution_count": null,
   "metadata": {
    "colab": {
     "base_uri": "https://localhost:8080/"
    },
    "id": "AufvPVweelsS",
    "outputId": "470d0d4e-9f45-486f-b898-021f678c59d8"
   },
   "outputs": [
    {
     "output_type": "stream",
     "name": "stdout",
     "text": [
      "{'exact_match': 47.59164268735143, 'f1': 55.40320738832585, 'common': 7993, 'denominator': 7993, 'pred_len': 7993, 'gold_len': 7993}\n"
     ]
    }
   ],
   "source": [
    "print(eval_dict)"
   ],
   "id": "AufvPVweelsS"
  }
 ],
 "metadata": {
  "colab": {
   "provenance": [],
   "gpuType": "T4"
  },
  "kernelspec": {
   "name": "python3",
   "language": "python",
   "display_name": "Python 3 (ipykernel)"
  },
  "language_info": {
   "codemirror_mode": {
    "name": "ipython",
    "version": 2
   },
   "file_extension": ".py",
   "mimetype": "text/x-python",
   "name": "python",
   "nbconvert_exporter": "python",
   "pygments_lexer": "ipython2",
   "version": "2.7.6"
  },
  "accelerator": "GPU"
 },
 "nbformat": 4,
 "nbformat_minor": 5
}
