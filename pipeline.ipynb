{
  "cells": [
    {
      "cell_type": "markdown",
      "source": [
        "# TriviaQA"
      ],
      "metadata": {
        "collapsed": false,
        "id": "877201a695895b76"
      },
      "id": "877201a695895b76"
    },
    {
      "cell_type": "code",
      "source": [
        "!git clone https://github.com/aaronkossler/triviaqa.git"
      ],
      "metadata": {
        "id": "vGUwKR1Kbj3s"
      },
      "execution_count": null,
      "outputs": [],
      "id": "vGUwKR1Kbj3s"
    },
    {
      "cell_type": "markdown",
      "source": [
        "## Import Dataset"
      ],
      "metadata": {
        "collapsed": false,
        "id": "9c2051ee80b1ce21"
      },
      "id": "9c2051ee80b1ce21"
    },
    {
      "cell_type": "code",
      "source": [
        "%%bash\n",
        "\n",
        "pip install datasets"
      ],
      "metadata": {
        "id": "mY3ijI6wKRc5"
      },
      "id": "mY3ijI6wKRc5",
      "execution_count": null,
      "outputs": []
    },
    {
      "cell_type": "code",
      "execution_count": 3,
      "outputs": [],
      "source": [
        "from datasets import load_dataset\n",
        "\n",
        "trivia_qa_wikipedia = load_dataset('trivia_qa', name=\"rc.wikipedia\")"
      ],
      "metadata": {
        "ExecuteTime": {
          "end_time": "2023-11-05T15:40:23.133836800Z",
          "start_time": "2023-11-05T15:40:08.110701100Z"
        },
        "id": "945abe603034f2cc"
      },
      "id": "945abe603034f2cc"
    },
    {
      "cell_type": "code",
      "execution_count": 39,
      "outputs": [],
      "source": [
        "# train_split = trivia_qa_wikipedia[\"train\"].train_test_split(shuffle=False, train_size=7900)\n",
        "train_split = trivia_qa_wikipedia[\"train\"].train_test_split(shuffle=False, train_size=5)\n",
        "evaluation = train_split[\"train\"]\n",
        "train = train_split[\"test\"]\n",
        "test = trivia_qa_wikipedia[\"validation\"]"
      ],
      "metadata": {
        "ExecuteTime": {
          "end_time": "2023-11-05T15:40:23.191623400Z",
          "start_time": "2023-11-05T15:40:23.143841100Z"
        },
        "id": "7ddbbbf17f8e289a"
      },
      "id": "7ddbbbf17f8e289a"
    },
    {
      "cell_type": "code",
      "source": [
        "import json\n",
        "import os\n",
        "\n",
        "# Convert the evaluation set to the desired format\n",
        "data = []\n",
        "for item in evaluation:\n",
        "    answer = {\n",
        "        \"Aliases\": item[\"answer\"][\"aliases\"],\n",
        "        \"MatchedWikiEntityName\": item[\"answer\"][\"matched_wiki_entity_name\"],\n",
        "        \"NormalizedAliases\": item[\"answer\"][\"normalized_aliases\"],\n",
        "        \"NormalizedMatchedWikiEntityName\": item[\"answer\"][\"normalized_matched_wiki_entity_name\"],\n",
        "        \"NormalizedValue\": item[\"answer\"][\"normalized_value\"],\n",
        "        \"Type\": item[\"answer\"][\"type\"],\n",
        "        \"Value\": item[\"answer\"][\"value\"],\n",
        "    }\n",
        "    entity_pages = [\n",
        "        {\n",
        "            \"DocSource\": item[\"entity_pages\"][\"doc_source\"][index],\n",
        "            \"Filename\": item[\"entity_pages\"][\"filename\"][index],\n",
        "            \"Title\": item[\"entity_pages\"][\"title\"][index],\n",
        "        }\n",
        "        for index in range(len(item[\"entity_pages\"][\"filename\"]))\n",
        "    ]\n",
        "    question = item[\"question\"]\n",
        "    question_id = item[\"question_id\"]\n",
        "    question_source = item[\"question_source\"]\n",
        "    search_results = []\n",
        "    data_item = {\n",
        "        \"Answer\": answer,\n",
        "        \"EntityPages\": entity_pages,\n",
        "        \"Question\": question,\n",
        "        \"QuestionId\": question_id,\n",
        "        \"QuestionSource\": question_source,\n",
        "        \"SearchResults\": search_results,\n",
        "    }\n",
        "    data.append(data_item)\n",
        "\n",
        "output = {\n",
        "    \"Data\": data,\n",
        "    \"Domain\": \"Web\",\n",
        "    \"VerifiedEval\": False,\n",
        "    \"Version\": 1.0,\n",
        "}\n",
        "\n",
        "# Write the output to a JSON file\n",
        "if not os.path.exists(\"triviaqa/sets\"):\n",
        "    os.makedirs(\"triviaqa/sets\")\n",
        "\n",
        "with open(\"triviaqa/sets/evaluation.json\", \"w\") as f:\n",
        "    json.dump(output, f)"
      ],
      "metadata": {
        "id": "Tw1vztqOXwBK"
      },
      "id": "Tw1vztqOXwBK",
      "execution_count": 40,
      "outputs": []
    },
    {
      "cell_type": "markdown",
      "source": [
        "## Model Training"
      ],
      "metadata": {
        "collapsed": false,
        "id": "66023a9ebac2aaac"
      },
      "id": "66023a9ebac2aaac"
    },
    {
      "cell_type": "code",
      "source": [
        "%%bash\n",
        "\n",
        "pip install --upgrade pip\n",
        "pip install farm-haystack[colab,inference]"
      ],
      "metadata": {
        "id": "aMEf8APudYK7"
      },
      "id": "aMEf8APudYK7",
      "execution_count": null,
      "outputs": []
    },
    {
      "cell_type": "code",
      "source": [
        "import logging\n",
        "\n",
        "logging.basicConfig(format=\"%(levelname)s - %(name)s -  %(message)s\", level=logging.WARNING)\n",
        "logging.getLogger(\"haystack\").setLevel(logging.INFO)"
      ],
      "metadata": {
        "id": "g-82Xx3jddyD"
      },
      "id": "g-82Xx3jddyD",
      "execution_count": 8,
      "outputs": []
    },
    {
      "cell_type": "code",
      "source": [
        "from haystack.document_stores import InMemoryDocumentStore\n",
        "\n",
        "documents = {}\n",
        "\n",
        "for row in evaluation:\n",
        "    for index, item in enumerate(row[\"entity_pages\"][\"filename\"]):\n",
        "        document_store = InMemoryDocumentStore(use_bm25=True)\n",
        "        document = {\n",
        "            \"content\": row[\"entity_pages\"][\"wiki_context\"][index],\n",
        "            \"meta\": {\n",
        "                \"question_id\": row[\"question_id\"],\n",
        "                \"filename\": row[\"entity_pages\"][\"filename\"][index]\n",
        "            },\n",
        "        }\n",
        "        document_store.write_documents([document])\n",
        "        documents[f\"{row['question_id']}--{item}\"] = document_store\n"
      ],
      "metadata": {
        "id": "Pl4GSaVlhtw6"
      },
      "id": "Pl4GSaVlhtw6",
      "execution_count": null,
      "outputs": []
    },
    {
      "cell_type": "code",
      "source": [
        "from haystack.nodes import FARMReader\n",
        "\n",
        "reader = FARMReader(model_name_or_path=\"deepset/roberta-base-squad2\", use_gpu=True)"
      ],
      "metadata": {
        "id": "Dtujp8BxeB8n"
      },
      "id": "Dtujp8BxeB8n",
      "execution_count": null,
      "outputs": []
    },
    {
      "cell_type": "code",
      "source": [
        "from haystack.nodes import BM25Retriever\n",
        "from haystack.pipelines import ExtractiveQAPipeline\n",
        "\n",
        "predictions = {}\n",
        "for entry in evaluation:\n",
        "    for item in entry[\"entity_pages\"][\"filename\"]:\n",
        "        retriever = BM25Retriever(document_store=documents[f\"{entry['question_id']}--{item}\"])\n",
        "        pipe = ExtractiveQAPipeline(reader, retriever)\n",
        "        prediction = pipe.run(\n",
        "            query=entry[\"question\"],\n",
        "            params={\"Retriever\": {\"top_k\": 1}, \"Reader\": {\"top_k\": 1}})\n",
        "        predictions[f\"{entry['question_id']}--{item}\"] = prediction[\"answers\"][0].answer"
      ],
      "metadata": {
        "id": "jHWvCyzhd5R0"
      },
      "execution_count": null,
      "outputs": [],
      "id": "jHWvCyzhd5R0"
    },
    {
      "cell_type": "code",
      "source": [
        "if not os.path.exists(\"triviaqa/predictions\"):\n",
        "        os.makedirs(\"triviaqa/predictions\")\n",
        "\n",
        "# Convert the dictionary to a JSON string\n",
        "json_string = json.dumps(predictions)\n",
        "\n",
        "# Write the JSON string to a file\n",
        "with open(\"triviaqa/predictions/evaluation_predictions.json\", \"w\") as f:\n",
        "    f.write(json_string)"
      ],
      "metadata": {
        "id": "0iyzcxvTSAqK"
      },
      "id": "0iyzcxvTSAqK",
      "execution_count": 44,
      "outputs": []
    },
    {
      "cell_type": "markdown",
      "source": [
        "## Evaluation"
      ],
      "metadata": {
        "collapsed": false,
        "id": "c847ecf167dcae10"
      },
      "id": "c847ecf167dcae10"
    },
    {
      "cell_type": "code",
      "source": [
        "import sys\n",
        "sys.path.append(\"./triviaqa\")"
      ],
      "metadata": {
        "id": "yY5JzsGtcocO"
      },
      "id": "yY5JzsGtcocO",
      "execution_count": 14,
      "outputs": []
    },
    {
      "cell_type": "code",
      "execution_count": 34,
      "outputs": [],
      "source": [
        "from triviaqa.evaluation.triviaqa_evaluation import evaluate_triviaqa\n",
        "from triviaqa.utils.dataset_utils import *\n",
        "from triviaqa.utils.utils import read_json"
      ],
      "metadata": {
        "ExecuteTime": {
          "start_time": "2023-11-04T22:59:14.578812800Z"
        },
        "id": "eb6d4a817c179430"
      },
      "id": "eb6d4a817c179430"
    },
    {
      "cell_type": "code",
      "execution_count": null,
      "outputs": [],
      "source": [
        "dataset_file = 'triviaqa/sets/evaluation.json'\n",
        "prediction_file = 'triviaqa/predictions/evaluation_predictions.json'\n",
        "\n",
        "expected_version = 1.0\n",
        "dataset_json = read_triviaqa_data(dataset_file)\n",
        "if dataset_json['Version'] != expected_version:\n",
        "    print('Evaluation expects v-{} , but got dataset with v-{}'.format(expected_version,dataset_json['Version']),\n",
        "          file=sys.stderr)\n",
        "key_to_ground_truth = get_key_to_ground_truth(dataset_json)\n",
        "predictions = read_json(prediction_file)\n",
        "eval_dict = evaluate_triviaqa(key_to_ground_truth, predictions)"
      ],
      "metadata": {
        "ExecuteTime": {
          "end_time": "2023-11-04T22:59:14.583811900Z",
          "start_time": "2023-11-04T22:59:14.583811900Z"
        },
        "id": "78714714f74e8590"
      },
      "id": "78714714f74e8590"
    },
    {
      "cell_type": "code",
      "source": [
        "print(eval_dict)"
      ],
      "metadata": {
        "colab": {
          "base_uri": "https://localhost:8080/"
        },
        "id": "AufvPVweelsS",
        "outputId": "ff405c47-16d2-4a0f-d944-1f7efe4400ef"
      },
      "id": "AufvPVweelsS",
      "execution_count": 46,
      "outputs": [
        {
          "output_type": "stream",
          "name": "stdout",
          "text": [
            "{'exact_match': 33.333333333333336, 'f1': 38.888888888888886, 'common': 9, 'denominator': 9, 'pred_len': 9, 'gold_len': 9}\n"
          ]
        }
      ]
    }
  ],
  "metadata": {
    "kernelspec": {
      "display_name": "Python 3",
      "language": "python",
      "name": "python3"
    },
    "language_info": {
      "codemirror_mode": {
        "name": "ipython",
        "version": 2
      },
      "file_extension": ".py",
      "mimetype": "text/x-python",
      "name": "python",
      "nbconvert_exporter": "python",
      "pygments_lexer": "ipython2",
      "version": "2.7.6"
    },
    "colab": {
      "provenance": []
    }
  },
  "nbformat": 4,
  "nbformat_minor": 5
}