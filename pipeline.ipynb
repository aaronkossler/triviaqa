{
 "cells": [
  {
   "cell_type": "markdown",
   "source": [
    "# TriviaQA"
   ],
   "metadata": {
    "collapsed": false
   },
   "id": "877201a695895b76"
  },
  {
   "cell_type": "code",
   "execution_count": 2,
   "outputs": [],
   "source": [
    "import sys"
   ],
   "metadata": {
    "collapsed": false,
    "ExecuteTime": {
     "end_time": "2023-11-05T15:40:06.827731400Z",
     "start_time": "2023-11-05T15:40:06.802010100Z"
    }
   },
   "id": "e23cc38f8b31444b"
  },
  {
   "cell_type": "markdown",
   "source": [
    "## Import Dataset"
   ],
   "metadata": {
    "collapsed": false
   },
   "id": "9c2051ee80b1ce21"
  },
  {
   "cell_type": "code",
   "execution_count": 3,
   "outputs": [
    {
     "name": "stderr",
     "output_type": "stream",
     "text": [
      "Found cached dataset trivia_qa (C:/Users/aaron/.cache/huggingface/datasets/trivia_qa/rc.wikipedia/1.2.0/ee76d8a9403e71177e2a3fa7e414d1ee28a79a0970d9176f62f268798aa64b31)\n"
     ]
    },
    {
     "data": {
      "text/plain": "  0%|          | 0/3 [00:00<?, ?it/s]",
      "application/vnd.jupyter.widget-view+json": {
       "version_major": 2,
       "version_minor": 0,
       "model_id": "677bc3b2af6d4aa0857a2da9ba3c1d78"
      }
     },
     "metadata": {},
     "output_type": "display_data"
    }
   ],
   "source": [
    "from datasets import load_dataset\n",
    "\n",
    "trivia_qa_wikipedia = load_dataset('trivia_qa', name=\"rc.wikipedia\")"
   ],
   "metadata": {
    "collapsed": false,
    "ExecuteTime": {
     "end_time": "2023-11-05T15:40:23.133836800Z",
     "start_time": "2023-11-05T15:40:08.110701100Z"
    }
   },
   "id": "945abe603034f2cc"
  },
  {
   "cell_type": "code",
   "execution_count": 4,
   "outputs": [],
   "source": [
    "train_split = trivia_qa_wikipedia[\"train\"].train_test_split(shuffle=False, train_size=7900)\n",
    "evaluation = train_split[\"train\"]\n",
    "train = train_split[\"test\"]\n",
    "test = trivia_qa_wikipedia[\"validation\"]"
   ],
   "metadata": {
    "collapsed": false,
    "ExecuteTime": {
     "end_time": "2023-11-05T15:40:23.191623400Z",
     "start_time": "2023-11-05T15:40:23.143841100Z"
    }
   },
   "id": "7ddbbbf17f8e289a"
  },
  {
   "cell_type": "code",
   "execution_count": 8,
   "outputs": [
    {
     "data": {
      "text/plain": "Creating json from Arrow format:   0%|          | 0/8 [00:00<?, ?ba/s]",
      "application/vnd.jupyter.widget-view+json": {
       "version_major": 2,
       "version_minor": 0,
       "model_id": "d0f285cd1880492ab4d8935e7a72bec1"
      }
     },
     "metadata": {},
     "output_type": "display_data"
    },
    {
     "data": {
      "text/plain": "Creating json from Arrow format:   0%|          | 0/8 [00:00<?, ?ba/s]",
      "application/vnd.jupyter.widget-view+json": {
       "version_major": 2,
       "version_minor": 0,
       "model_id": "10dbad6118324a32bc12b42f3fe2a00b"
      }
     },
     "metadata": {},
     "output_type": "display_data"
    },
    {
     "data": {
      "text/plain": "436068725"
     },
     "execution_count": 8,
     "metadata": {},
     "output_type": "execute_result"
    }
   ],
   "source": [
    "evaluation.to_json(\"sets/evaluation.json\")\n",
    "test.to_json(\"sets/test.json\")"
   ],
   "metadata": {
    "collapsed": false,
    "ExecuteTime": {
     "end_time": "2023-11-04T23:06:05.153764600Z",
     "start_time": "2023-11-04T23:05:48.111036600Z"
    }
   },
   "id": "328fb3d8aec3a618"
  },
  {
   "cell_type": "markdown",
   "source": [
    "## Model Training"
   ],
   "metadata": {
    "collapsed": false
   },
   "id": "66023a9ebac2aaac"
  },
  {
   "cell_type": "code",
   "execution_count": 9,
   "outputs": [],
   "source": [
    "# TODO: Try deepset/roberta-base-squad2"
   ],
   "metadata": {
    "collapsed": false,
    "ExecuteTime": {
     "end_time": "2023-11-04T23:26:34.126339700Z",
     "start_time": "2023-11-04T23:26:34.110694Z"
    }
   },
   "id": "51354d02e5f6c82"
  },
  {
   "cell_type": "markdown",
   "source": [
    "## Evaluation"
   ],
   "metadata": {
    "collapsed": false
   },
   "id": "c847ecf167dcae10"
  },
  {
   "cell_type": "code",
   "execution_count": null,
   "outputs": [],
   "source": [
    "from evaluation.triviaqa_evaluation import evaluate_triviaqa\n",
    "from utils.dataset_utils import *\n",
    "from utils.utils import read_json"
   ],
   "metadata": {
    "collapsed": false,
    "ExecuteTime": {
     "start_time": "2023-11-04T22:59:14.578812800Z"
    }
   },
   "id": "eb6d4a817c179430"
  },
  {
   "cell_type": "code",
   "execution_count": null,
   "outputs": [],
   "source": [
    "dataset_file = 'triviaqa/samples/triviaqa_sample.json'\n",
    "prediction_file = 'triviaqa/samples/sample_predictions.json'\n",
    "\n",
    "expected_version = 1.0\n",
    "dataset_json = read_triviaqa_data(dataset_file)\n",
    "if dataset_json['Version'] != expected_version:\n",
    "    print('Evaluation expects v-{} , but got dataset with v-{}'.format(expected_version,dataset_json['Version']),\n",
    "          file=sys.stderr)\n",
    "key_to_ground_truth = get_key_to_ground_truth(dataset_json)\n",
    "predictions = read_json(prediction_file)\n",
    "eval_dict = evaluate_triviaqa(key_to_ground_truth, predictions)\n",
    "print(eval_dict)"
   ],
   "metadata": {
    "collapsed": false,
    "ExecuteTime": {
     "end_time": "2023-11-04T22:59:14.583811900Z",
     "start_time": "2023-11-04T22:59:14.583811900Z"
    }
   },
   "id": "78714714f74e8590"
  },
  {
   "cell_type": "code",
   "execution_count": null,
   "outputs": [],
   "source": [],
   "metadata": {
    "collapsed": false,
    "ExecuteTime": {
     "end_time": "2023-11-04T22:59:14.595823100Z",
     "start_time": "2023-11-04T22:59:14.586814100Z"
    }
   },
   "id": "1c89cb399908cf9e"
  }
 ],
 "metadata": {
  "kernelspec": {
   "display_name": "Python 3",
   "language": "python",
   "name": "python3"
  },
  "language_info": {
   "codemirror_mode": {
    "name": "ipython",
    "version": 2
   },
   "file_extension": ".py",
   "mimetype": "text/x-python",
   "name": "python",
   "nbconvert_exporter": "python",
   "pygments_lexer": "ipython2",
   "version": "2.7.6"
  }
 },
 "nbformat": 4,
 "nbformat_minor": 5
}
